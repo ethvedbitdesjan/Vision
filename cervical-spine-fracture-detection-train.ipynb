The preprocessing for the scanned files (.dcm) to torch tensors was done before in another notebook.
{
 "cells": [
  {
   "cell_type": "code",
   "execution_count": 1,
   "id": "201cfb20",
   "metadata": {
    "_cell_guid": "b1076dfc-b9ad-4769-8c92-a6c4dae69d19",
    "_uuid": "8f2839f25d086af736a60e9eeb907d3b93b6e0e5",
    "execution": {
     "iopub.execute_input": "2022-09-13T06:30:09.296217Z",
     "iopub.status.busy": "2022-09-13T06:30:09.295611Z",
     "iopub.status.idle": "2022-09-13T06:30:09.316318Z",
     "shell.execute_reply": "2022-09-13T06:30:09.315352Z"
    },
    "papermill": {
     "duration": 0.048181,
     "end_time": "2022-09-13T06:30:09.318616",
     "exception": false,
     "start_time": "2022-09-13T06:30:09.270435",
     "status": "completed"
    },
    "tags": []
   },
   "outputs": [
    {
     "data": {
      "text/plain": [
       "\"\\nfor dirname, _, filenames in os.walk('/kaggle/input'):\\n    for filename in filenames:\\n        print(os.path.join(dirname, filename))\\n\""
      ]
     },
     "execution_count": 1,
     "metadata": {},
     "output_type": "execute_result"
    }
   ],
   "source": [
    "# This Python 3 environment comes with many helpful analytics libraries installed\n",
    "# It is defined by the kaggle/python Docker image: https://github.com/kaggle/docker-python\n",
    "# For example, here's several helpful packages to load\n",
    "\n",
    "import numpy as np # linear algebra\n",
    "import pandas as pd # data processing, CSV file I/O (e.g. pd.read_csv)\n",
    "\n",
    "# Input data files are available in the read-only \"../input/\" directory\n",
    "# For example, running this (by clicking run or pressing Shift+Enter) will list all files under the input directory\n",
    "\n",
    "import os\n",
    "\"\"\"\n",
    "for dirname, _, filenames in os.walk('/kaggle/input'):\n",
    "    for filename in filenames:\n",
    "        print(os.path.join(dirname, filename))\n",
    "\"\"\"\n",
    "# You can write up to 20GB to the current directory (/kaggle/working/) that gets preserved as output when you create a version using \"Save & Run All\" \n",
    "# You can also write temporary files to /kaggle/temp/, but they won't be saved outside of the current session"
   ]
  },
  {
   "cell_type": "raw",
   "id": "1cdbe40d",
   "metadata": {
    "papermill": {
     "duration": 0.018716,
     "end_time": "2022-09-13T06:30:09.364291",
     "exception": false,
     "start_time": "2022-09-13T06:30:09.345575",
     "status": "completed"
    },
    "tags": []
   },
   "source": []
  },
  {
   "cell_type": "code",
   "execution_count": null,
   "id": "a2d9e244",
   "metadata": {
    "papermill": {
     "duration": 0.018814,
     "end_time": "2022-09-13T06:30:09.402985",
     "exception": false,
     "start_time": "2022-09-13T06:30:09.384171",
     "status": "completed"
    },
    "tags": []
   },
   "outputs": [],
   "source": []
  },
  {
   "cell_type": "code",
   "execution_count": 2,
   "id": "e1bf1658",
   "metadata": {
    "execution": {
     "iopub.execute_input": "2022-09-13T06:30:09.437183Z",
     "iopub.status.busy": "2022-09-13T06:30:09.436793Z",
     "iopub.status.idle": "2022-09-13T06:30:09.441551Z",
     "shell.execute_reply": "2022-09-13T06:30:09.440630Z"
    },
    "papermill": {
     "duration": 0.020849,
     "end_time": "2022-09-13T06:30:09.443672",
     "exception": false,
     "start_time": "2022-09-13T06:30:09.422823",
     "status": "completed"
    },
    "tags": []
   },
   "outputs": [],
   "source": [
    "import os\n",
    "os.environ[\"PYTORCH_CUDA_ALLOC_CONF\"] = \"max_split_size_mb:3000\""
   ]
  },
  {
   "cell_type": "code",
   "execution_count": 3,
   "id": "3bbed577",
   "metadata": {
    "execution": {
     "iopub.execute_input": "2022-09-13T06:30:09.470865Z",
     "iopub.status.busy": "2022-09-13T06:30:09.469907Z",
     "iopub.status.idle": "2022-09-13T06:30:21.811477Z",
     "shell.execute_reply": "2022-09-13T06:30:21.810311Z"
    },
    "papermill": {
     "duration": 12.358496,
     "end_time": "2022-09-13T06:30:21.814642",
     "exception": false,
     "start_time": "2022-09-13T06:30:09.456146",
     "status": "completed"
    },
    "tags": []
   },
   "outputs": [
    {
     "name": "stdout",
     "output_type": "stream",
     "text": [
      "Collecting monai\r\n",
      "  Downloading monai-0.9.1-202207251608-py3-none-any.whl (990 kB)\r\n",
      "\u001b[2K     \u001b[90m━━━━━━━━━━━━━━━━━━━━━━━━━━━━━━━━━━━━━━━\u001b[0m \u001b[32m990.7/990.7 kB\u001b[0m \u001b[31m3.7 MB/s\u001b[0m eta \u001b[36m0:00:00\u001b[0m\r\n",
      "\u001b[?25hRequirement already satisfied: torch>=1.7 in /opt/conda/lib/python3.7/site-packages (from monai) (1.11.0)\r\n",
      "Requirement already satisfied: numpy>=1.17 in /opt/conda/lib/python3.7/site-packages (from monai) (1.21.6)\r\n",
      "Requirement already satisfied: typing-extensions in /opt/conda/lib/python3.7/site-packages (from torch>=1.7->monai) (4.3.0)\r\n",
      "Installing collected packages: monai\r\n",
      "Successfully installed monai-0.9.1\r\n",
      "\u001b[33mWARNING: Running pip as the 'root' user can result in broken permissions and conflicting behaviour with the system package manager. It is recommended to use a virtual environment instead: https://pip.pypa.io/warnings/venv\u001b[0m\u001b[33m\r\n",
      "\u001b[0m"
     ]
    }
   ],
   "source": [
    "!pip install monai"
   ]
  },
  {
   "cell_type": "code",
   "execution_count": 4,
   "id": "3d949bd4",
   "metadata": {
    "execution": {
     "iopub.execute_input": "2022-09-13T06:30:21.845027Z",
     "iopub.status.busy": "2022-09-13T06:30:21.844639Z",
     "iopub.status.idle": "2022-09-13T06:30:34.066509Z",
     "shell.execute_reply": "2022-09-13T06:30:34.065166Z"
    },
    "papermill": {
     "duration": 12.239981,
     "end_time": "2022-09-13T06:30:34.069307",
     "exception": false,
     "start_time": "2022-09-13T06:30:21.829326",
     "status": "completed"
    },
    "tags": []
   },
   "outputs": [
    {
     "name": "stdout",
     "output_type": "stream",
     "text": [
      "Collecting GPUtil\r\n",
      "  Downloading GPUtil-1.4.0.tar.gz (5.5 kB)\r\n",
      "  Preparing metadata (setup.py) ... \u001b[?25l-\b \bdone\r\n",
      "\u001b[?25hBuilding wheels for collected packages: GPUtil\r\n",
      "  Building wheel for GPUtil (setup.py) ... \u001b[?25l-\b \b\\\b \bdone\r\n",
      "\u001b[?25h  Created wheel for GPUtil: filename=GPUtil-1.4.0-py3-none-any.whl size=7411 sha256=3aaa46f163a184e257ab11bbf38c22a9670f76a7b7d55aafd57ff6c84ca9fe5b\r\n",
      "  Stored in directory: /root/.cache/pip/wheels/6e/f8/83/534c52482d6da64622ddbf72cd93c35d2ef2881b78fd08ff0c\r\n",
      "Successfully built GPUtil\r\n",
      "Installing collected packages: GPUtil\r\n",
      "Successfully installed GPUtil-1.4.0\r\n",
      "\u001b[33mWARNING: Running pip as the 'root' user can result in broken permissions and conflicting behaviour with the system package manager. It is recommended to use a virtual environment instead: https://pip.pypa.io/warnings/venv\u001b[0m\u001b[33m\r\n",
      "\u001b[0m"
     ]
    }
   ],
   "source": [
    "!pip install GPUtil\n",
    "\n",
    "from GPUtil import showUtilization as gpu_usage"
   ]
  },
  {
   "cell_type": "code",
   "execution_count": 5,
   "id": "beccdb41",
   "metadata": {
    "execution": {
     "iopub.execute_input": "2022-09-13T06:30:34.099358Z",
     "iopub.status.busy": "2022-09-13T06:30:34.098357Z",
     "iopub.status.idle": "2022-09-13T06:30:56.199010Z",
     "shell.execute_reply": "2022-09-13T06:30:56.197841Z"
    },
    "papermill": {
     "duration": 22.118208,
     "end_time": "2022-09-13T06:30:56.201529",
     "exception": false,
     "start_time": "2022-09-13T06:30:34.083321",
     "status": "completed"
    },
    "tags": []
   },
   "outputs": [
    {
     "name": "stdout",
     "output_type": "stream",
     "text": [
      "Collecting pylibjpeg\r\n",
      "  Downloading pylibjpeg-1.4.0-py3-none-any.whl (28 kB)\r\n",
      "Collecting pylibjpeg-libjpeg\r\n",
      "  Downloading pylibjpeg_libjpeg-1.3.1-cp37-cp37m-manylinux_2_17_x86_64.manylinux2014_x86_64.whl (4.3 MB)\r\n",
      "\u001b[2K     \u001b[90m━━━━━━━━━━━━━━━━━━━━━━━━━━━━━━━━━━━━━━━━\u001b[0m \u001b[32m4.3/4.3 MB\u001b[0m \u001b[31m11.2 MB/s\u001b[0m eta \u001b[36m0:00:00\u001b[0m\r\n",
      "\u001b[?25hRequirement already satisfied: pydicom in /opt/conda/lib/python3.7/site-packages (2.3.0)\r\n",
      "Requirement already satisfied: numpy in /opt/conda/lib/python3.7/site-packages (from pylibjpeg) (1.21.6)\r\n",
      "Installing collected packages: pylibjpeg-libjpeg, pylibjpeg\r\n",
      "Successfully installed pylibjpeg-1.4.0 pylibjpeg-libjpeg-1.3.1\r\n",
      "\u001b[33mWARNING: Running pip as the 'root' user can result in broken permissions and conflicting behaviour with the system package manager. It is recommended to use a virtual environment instead: https://pip.pypa.io/warnings/venv\u001b[0m\u001b[33m\r\n",
      "\u001b[0mCollecting python-gdcm\r\n",
      "  Downloading python_gdcm-3.0.17.1-cp37-cp37m-manylinux_2_17_x86_64.manylinux2014_x86_64.whl (12.9 MB)\r\n",
      "\u001b[2K     \u001b[90m━━━━━━━━━━━━━━━━━━━━━━━━━━━━━━━━━━━━━━━━\u001b[0m \u001b[32m12.9/12.9 MB\u001b[0m \u001b[31m36.6 MB/s\u001b[0m eta \u001b[36m0:00:00\u001b[0m\r\n",
      "\u001b[?25hInstalling collected packages: python-gdcm\r\n",
      "Successfully installed python-gdcm-3.0.17.1\r\n",
      "\u001b[33mWARNING: Running pip as the 'root' user can result in broken permissions and conflicting behaviour with the system package manager. It is recommended to use a virtual environment instead: https://pip.pypa.io/warnings/venv\u001b[0m\u001b[33m\r\n",
      "\u001b[0m"
     ]
    }
   ],
   "source": [
    "! pip install pylibjpeg pylibjpeg-libjpeg pydicom\n",
    "! pip install -U python-gdcm"
   ]
  },
  {
   "cell_type": "code",
   "execution_count": 6,
   "id": "3d5638d6",
   "metadata": {
    "execution": {
     "iopub.execute_input": "2022-09-13T06:30:56.235282Z",
     "iopub.status.busy": "2022-09-13T06:30:56.234265Z",
     "iopub.status.idle": "2022-09-13T06:30:56.246998Z",
     "shell.execute_reply": "2022-09-13T06:30:56.246099Z"
    },
    "papermill": {
     "duration": 0.031233,
     "end_time": "2022-09-13T06:30:56.249049",
     "exception": false,
     "start_time": "2022-09-13T06:30:56.217816",
     "status": "completed"
    },
    "tags": []
   },
   "outputs": [],
   "source": [
    "import pylibjpeg\n",
    "import libjpeg"
   ]
  },
  {
   "cell_type": "code",
   "execution_count": 7,
   "id": "ea4f7aa6",
   "metadata": {
    "execution": {
     "iopub.execute_input": "2022-09-13T06:30:56.280962Z",
     "iopub.status.busy": "2022-09-13T06:30:56.280021Z",
     "iopub.status.idle": "2022-09-13T06:30:58.197709Z",
     "shell.execute_reply": "2022-09-13T06:30:58.196600Z"
    },
    "papermill": {
     "duration": 1.935999,
     "end_time": "2022-09-13T06:30:58.200157",
     "exception": false,
     "start_time": "2022-09-13T06:30:56.264158",
     "status": "completed"
    },
    "tags": []
   },
   "outputs": [],
   "source": [
    "from pydicom.pixel_data_handlers.util import apply_voi_lut\n",
    "from torch.utils.data import Dataset, DataLoader"
   ]
  },
  {
   "cell_type": "code",
   "execution_count": 8,
   "id": "3c9a3308",
   "metadata": {
    "execution": {
     "iopub.execute_input": "2022-09-13T06:30:58.232150Z",
     "iopub.status.busy": "2022-09-13T06:30:58.231593Z",
     "iopub.status.idle": "2022-09-13T06:31:03.099941Z",
     "shell.execute_reply": "2022-09-13T06:31:03.098716Z"
    },
    "papermill": {
     "duration": 4.886884,
     "end_time": "2022-09-13T06:31:03.102497",
     "exception": false,
     "start_time": "2022-09-13T06:30:58.215613",
     "status": "completed"
    },
    "tags": []
   },
   "outputs": [],
   "source": [
    "import monai.transforms as transforms"
   ]
  },
  {
   "cell_type": "code",
   "execution_count": 9,
   "id": "5f3c8b0a",
   "metadata": {
    "execution": {
     "iopub.execute_input": "2022-09-13T06:31:03.135852Z",
     "iopub.status.busy": "2022-09-13T06:31:03.135151Z",
     "iopub.status.idle": "2022-09-13T06:31:03.324483Z",
     "shell.execute_reply": "2022-09-13T06:31:03.323418Z"
    },
    "papermill": {
     "duration": 0.208873,
     "end_time": "2022-09-13T06:31:03.326813",
     "exception": false,
     "start_time": "2022-09-13T06:31:03.117940",
     "status": "completed"
    },
    "tags": []
   },
   "outputs": [],
   "source": [
    "import cv2\n",
    "import matplotlib.pyplot as plt\n",
    "import pydicom as dicom\n",
    "import torch\n",
    "import torchvision as vision\n",
    "from sklearn.ensemble import RandomForestClassifier\n",
    "from sklearn.model_selection import GroupKFold, KFold\n",
    "from torch.cuda.amp import GradScaler\n",
    "from torch.cuda.amp import autocast\n",
    "from torchvision.models import feature_extraction\n",
    "from tqdm.notebook import tqdm\n",
    "import pydicom as dicom\n",
    "import gc"
   ]
  },
  {
   "cell_type": "code",
   "execution_count": null,
   "id": "cc1e86c8",
   "metadata": {
    "papermill": {
     "duration": 0.014845,
     "end_time": "2022-09-13T06:31:03.357818",
     "exception": false,
     "start_time": "2022-09-13T06:31:03.342973",
     "status": "completed"
    },
    "tags": []
   },
   "outputs": [],
   "source": []
  },
  {
   "cell_type": "code",
   "execution_count": null,
   "id": "ac4c4b95",
   "metadata": {
    "papermill": {
     "duration": 0.014776,
     "end_time": "2022-09-13T06:31:03.387737",
     "exception": false,
     "start_time": "2022-09-13T06:31:03.372961",
     "status": "completed"
    },
    "tags": []
   },
   "outputs": [],
   "source": []
  },
  {
   "cell_type": "code",
   "execution_count": null,
   "id": "86de55a2",
   "metadata": {
    "papermill": {
     "duration": 0.015233,
     "end_time": "2022-09-13T06:31:03.418222",
     "exception": false,
     "start_time": "2022-09-13T06:31:03.402989",
     "status": "completed"
    },
    "tags": []
   },
   "outputs": [],
   "source": []
  },
  {
   "cell_type": "code",
   "execution_count": null,
   "id": "53ac3fcb",
   "metadata": {
    "papermill": {
     "duration": 0.015089,
     "end_time": "2022-09-13T06:31:03.448598",
     "exception": false,
     "start_time": "2022-09-13T06:31:03.433509",
     "status": "completed"
    },
    "tags": []
   },
   "outputs": [],
   "source": []
  },
  {
   "cell_type": "code",
   "execution_count": 10,
   "id": "c6bc81e7",
   "metadata": {
    "execution": {
     "iopub.execute_input": "2022-09-13T06:31:03.481272Z",
     "iopub.status.busy": "2022-09-13T06:31:03.480561Z",
     "iopub.status.idle": "2022-09-13T06:31:03.485248Z",
     "shell.execute_reply": "2022-09-13T06:31:03.484267Z"
    },
    "papermill": {
     "duration": 0.023462,
     "end_time": "2022-09-13T06:31:03.487218",
     "exception": false,
     "start_time": "2022-09-13T06:31:03.463756",
     "status": "completed"
    },
    "tags": []
   },
   "outputs": [],
   "source": [
    "TRAIN_CSV_PATH = '../input/rsna-2022-cervical-spine-fracture-detection/train.csv'\n",
    "TRAIN_DATA_PATH = '../input/cervical-spine-pt/train_volumes'"
   ]
  },
  {
   "cell_type": "code",
   "execution_count": 11,
   "id": "22cddeff",
   "metadata": {
    "execution": {
     "iopub.execute_input": "2022-09-13T06:31:03.519865Z",
     "iopub.status.busy": "2022-09-13T06:31:03.518886Z",
     "iopub.status.idle": "2022-09-13T06:31:03.583657Z",
     "shell.execute_reply": "2022-09-13T06:31:03.582455Z"
    },
    "papermill": {
     "duration": 0.083559,
     "end_time": "2022-09-13T06:31:03.586132",
     "exception": false,
     "start_time": "2022-09-13T06:31:03.502573",
     "status": "completed"
    },
    "tags": []
   },
   "outputs": [],
   "source": [
    "device ='cuda' if torch.cuda.is_available() else 'cpu'\n",
    "batch_size = 8"
   ]
  },
  {
   "cell_type": "code",
   "execution_count": 12,
   "id": "a4d62b60",
   "metadata": {
    "execution": {
     "iopub.execute_input": "2022-09-13T06:31:03.618848Z",
     "iopub.status.busy": "2022-09-13T06:31:03.617851Z",
     "iopub.status.idle": "2022-09-13T06:31:03.624717Z",
     "shell.execute_reply": "2022-09-13T06:31:03.623636Z"
    },
    "papermill": {
     "duration": 0.02534,
     "end_time": "2022-09-13T06:31:03.626711",
     "exception": false,
     "start_time": "2022-09-13T06:31:03.601371",
     "status": "completed"
    },
    "tags": []
   },
   "outputs": [
    {
     "data": {
      "text/plain": [
       "'cuda'"
      ]
     },
     "execution_count": 12,
     "metadata": {},
     "output_type": "execute_result"
    }
   ],
   "source": [
    "device"
   ]
  },
  {
   "cell_type": "code",
   "execution_count": 13,
   "id": "79a476a8",
   "metadata": {
    "_kg_hide-input": true,
    "_kg_hide-output": true,
    "execution": {
     "iopub.execute_input": "2022-09-13T06:31:03.660030Z",
     "iopub.status.busy": "2022-09-13T06:31:03.658439Z",
     "iopub.status.idle": "2022-09-13T06:31:03.665393Z",
     "shell.execute_reply": "2022-09-13T06:31:03.664460Z"
    },
    "papermill": {
     "duration": 0.02537,
     "end_time": "2022-09-13T06:31:03.667385",
     "exception": false,
     "start_time": "2022-09-13T06:31:03.642015",
     "status": "completed"
    },
    "tags": []
   },
   "outputs": [
    {
     "data": {
      "text/plain": [
       "'\\ndef load_data(path):\\n    img = dicom.dcmread(path)\\n    data = apply_voi_lut(img.pixel_array, img)\\n    data = cv2.resize(data, (img_size, img_size), interpolation=cv2.INTER_NEAREST)\\n    norm = (np.min(data), np.max(data))\\n    if norm[1] != 0:\\n        data = (data-norm[0]) / norm[1]\\n    data=(data * 255).astype(np.uint8)\\n    return cv2.cvtColor(data, cv2.COLOR_GRAY2RGB)\\n'"
      ]
     },
     "execution_count": 13,
     "metadata": {},
     "output_type": "execute_result"
    }
   ],
   "source": [
    "\"\"\"\n",
    "def load_data(path):\n",
    "    img = dicom.dcmread(path)\n",
    "    data = apply_voi_lut(img.pixel_array, img)\n",
    "    data = cv2.resize(data, (img_size, img_size), interpolation=cv2.INTER_NEAREST)\n",
    "    norm = (np.min(data), np.max(data))\n",
    "    if norm[1] != 0:\n",
    "        data = (data-norm[0]) / norm[1]\n",
    "    data=(data * 255).astype(np.uint8)\n",
    "    return cv2.cvtColor(data, cv2.COLOR_GRAY2RGB)\n",
    "\"\"\""
   ]
  },
  {
   "cell_type": "code",
   "execution_count": 14,
   "id": "786e5514",
   "metadata": {
    "_kg_hide-input": true,
    "_kg_hide-output": true,
    "execution": {
     "iopub.execute_input": "2022-09-13T06:31:03.699916Z",
     "iopub.status.busy": "2022-09-13T06:31:03.699167Z",
     "iopub.status.idle": "2022-09-13T06:31:03.705519Z",
     "shell.execute_reply": "2022-09-13T06:31:03.704597Z"
    },
    "papermill": {
     "duration": 0.024918,
     "end_time": "2022-09-13T06:31:03.707406",
     "exception": false,
     "start_time": "2022-09-13T06:31:03.682488",
     "status": "completed"
    },
    "tags": []
   },
   "outputs": [
    {
     "data": {
      "text/plain": [
       "\"img = load_data('../input/rsna-2022-cervical-spine-fracture-detection/train_images/1.2.826.0.1.3680043.6200/1.dcm')\\nplt.figure()\\nplt.imshow(img)\\nplt.title('Image 0')\\n\\nimg = load_data(f'{TRAIN_DATA_PATH}/1.2.826.0.1.3680043.10005/1.dcm')\\nplt.figure()\\nplt.imshow(img)\\nplt.title('Image 1')\""
      ]
     },
     "execution_count": 14,
     "metadata": {},
     "output_type": "execute_result"
    }
   ],
   "source": [
    "\"\"\"img = load_data('../input/rsna-2022-cervical-spine-fracture-detection/train_images/1.2.826.0.1.3680043.6200/1.dcm')\n",
    "plt.figure()\n",
    "plt.imshow(img)\n",
    "plt.title('Image 0')\n",
    "\n",
    "img = load_data(f'{TRAIN_DATA_PATH}/1.2.826.0.1.3680043.10005/1.dcm')\n",
    "plt.figure()\n",
    "plt.imshow(img)\n",
    "plt.title('Image 1')\"\"\""
   ]
  },
  {
   "cell_type": "code",
   "execution_count": null,
   "id": "856684df",
   "metadata": {
    "papermill": {
     "duration": 0.015278,
     "end_time": "2022-09-13T06:31:03.737877",
     "exception": false,
     "start_time": "2022-09-13T06:31:03.722599",
     "status": "completed"
    },
    "tags": []
   },
   "outputs": [],
   "source": []
  },
  {
   "cell_type": "code",
   "execution_count": 15,
   "id": "6d2cf834",
   "metadata": {
    "execution": {
     "iopub.execute_input": "2022-09-13T06:31:03.770506Z",
     "iopub.status.busy": "2022-09-13T06:31:03.769904Z",
     "iopub.status.idle": "2022-09-13T06:31:03.804186Z",
     "shell.execute_reply": "2022-09-13T06:31:03.803193Z"
    },
    "papermill": {
     "duration": 0.053119,
     "end_time": "2022-09-13T06:31:03.806344",
     "exception": false,
     "start_time": "2022-09-13T06:31:03.753225",
     "status": "completed"
    },
    "tags": []
   },
   "outputs": [
    {
     "data": {
      "text/html": [
       "<div>\n",
       "<style scoped>\n",
       "    .dataframe tbody tr th:only-of-type {\n",
       "        vertical-align: middle;\n",
       "    }\n",
       "\n",
       "    .dataframe tbody tr th {\n",
       "        vertical-align: top;\n",
       "    }\n",
       "\n",
       "    .dataframe thead th {\n",
       "        text-align: right;\n",
       "    }\n",
       "</style>\n",
       "<table border=\"1\" class=\"dataframe\">\n",
       "  <thead>\n",
       "    <tr style=\"text-align: right;\">\n",
       "      <th></th>\n",
       "      <th>StudyInstanceUID</th>\n",
       "      <th>patient_overall</th>\n",
       "      <th>C1</th>\n",
       "      <th>C2</th>\n",
       "      <th>C3</th>\n",
       "      <th>C4</th>\n",
       "      <th>C5</th>\n",
       "      <th>C6</th>\n",
       "      <th>C7</th>\n",
       "    </tr>\n",
       "  </thead>\n",
       "  <tbody>\n",
       "    <tr>\n",
       "      <th>0</th>\n",
       "      <td>1.2.826.0.1.3680043.6200</td>\n",
       "      <td>1</td>\n",
       "      <td>1</td>\n",
       "      <td>1</td>\n",
       "      <td>0</td>\n",
       "      <td>0</td>\n",
       "      <td>0</td>\n",
       "      <td>0</td>\n",
       "      <td>0</td>\n",
       "    </tr>\n",
       "    <tr>\n",
       "      <th>1</th>\n",
       "      <td>1.2.826.0.1.3680043.27262</td>\n",
       "      <td>1</td>\n",
       "      <td>0</td>\n",
       "      <td>1</td>\n",
       "      <td>0</td>\n",
       "      <td>0</td>\n",
       "      <td>0</td>\n",
       "      <td>0</td>\n",
       "      <td>0</td>\n",
       "    </tr>\n",
       "    <tr>\n",
       "      <th>2</th>\n",
       "      <td>1.2.826.0.1.3680043.21561</td>\n",
       "      <td>1</td>\n",
       "      <td>0</td>\n",
       "      <td>1</td>\n",
       "      <td>0</td>\n",
       "      <td>0</td>\n",
       "      <td>0</td>\n",
       "      <td>0</td>\n",
       "      <td>0</td>\n",
       "    </tr>\n",
       "    <tr>\n",
       "      <th>3</th>\n",
       "      <td>1.2.826.0.1.3680043.12351</td>\n",
       "      <td>0</td>\n",
       "      <td>0</td>\n",
       "      <td>0</td>\n",
       "      <td>0</td>\n",
       "      <td>0</td>\n",
       "      <td>0</td>\n",
       "      <td>0</td>\n",
       "      <td>0</td>\n",
       "    </tr>\n",
       "    <tr>\n",
       "      <th>4</th>\n",
       "      <td>1.2.826.0.1.3680043.1363</td>\n",
       "      <td>1</td>\n",
       "      <td>0</td>\n",
       "      <td>0</td>\n",
       "      <td>0</td>\n",
       "      <td>0</td>\n",
       "      <td>1</td>\n",
       "      <td>0</td>\n",
       "      <td>0</td>\n",
       "    </tr>\n",
       "  </tbody>\n",
       "</table>\n",
       "</div>"
      ],
      "text/plain": [
       "            StudyInstanceUID  patient_overall  C1  C2  C3  C4  C5  C6  C7\n",
       "0   1.2.826.0.1.3680043.6200                1   1   1   0   0   0   0   0\n",
       "1  1.2.826.0.1.3680043.27262                1   0   1   0   0   0   0   0\n",
       "2  1.2.826.0.1.3680043.21561                1   0   1   0   0   0   0   0\n",
       "3  1.2.826.0.1.3680043.12351                0   0   0   0   0   0   0   0\n",
       "4   1.2.826.0.1.3680043.1363                1   0   0   0   0   1   0   0"
      ]
     },
     "execution_count": 15,
     "metadata": {},
     "output_type": "execute_result"
    }
   ],
   "source": [
    "train_df = pd.read_csv(TRAIN_CSV_PATH)\n",
    "train_df.head(5)"
   ]
  },
  {
   "cell_type": "code",
   "execution_count": 16,
   "id": "e23d158d",
   "metadata": {
    "execution": {
     "iopub.execute_input": "2022-09-13T06:31:03.839826Z",
     "iopub.status.busy": "2022-09-13T06:31:03.839475Z",
     "iopub.status.idle": "2022-09-13T06:31:03.844820Z",
     "shell.execute_reply": "2022-09-13T06:31:03.843816Z"
    },
    "papermill": {
     "duration": 0.024751,
     "end_time": "2022-09-13T06:31:03.846846",
     "exception": false,
     "start_time": "2022-09-13T06:31:03.822095",
     "status": "completed"
    },
    "tags": []
   },
   "outputs": [],
   "source": [
    "def create_label_string(row):\n",
    "    label = str(row['patient_overall'])\n",
    "    for i in range(7):\n",
    "        label += str(row['C'+str(i+1)])\n",
    "    label_int = int(label, 2)\n",
    "    return label_int"
   ]
  },
  {
   "cell_type": "code",
   "execution_count": 17,
   "id": "ef207fd5",
   "metadata": {
    "execution": {
     "iopub.execute_input": "2022-09-13T06:31:03.879690Z",
     "iopub.status.busy": "2022-09-13T06:31:03.879361Z",
     "iopub.status.idle": "2022-09-13T06:31:03.965070Z",
     "shell.execute_reply": "2022-09-13T06:31:03.964006Z"
    },
    "papermill": {
     "duration": 0.105378,
     "end_time": "2022-09-13T06:31:03.967607",
     "exception": false,
     "start_time": "2022-09-13T06:31:03.862229",
     "status": "completed"
    },
    "tags": []
   },
   "outputs": [],
   "source": [
    "train_df['labels'] = train_df.apply(lambda x: create_label_string(x), axis = 1)"
   ]
  },
  {
   "cell_type": "code",
   "execution_count": 18,
   "id": "e178feae",
   "metadata": {
    "execution": {
     "iopub.execute_input": "2022-09-13T06:31:04.002252Z",
     "iopub.status.busy": "2022-09-13T06:31:04.001631Z",
     "iopub.status.idle": "2022-09-13T06:31:04.014403Z",
     "shell.execute_reply": "2022-09-13T06:31:04.013350Z"
    },
    "papermill": {
     "duration": 0.032254,
     "end_time": "2022-09-13T06:31:04.016481",
     "exception": false,
     "start_time": "2022-09-13T06:31:03.984227",
     "status": "completed"
    },
    "tags": []
   },
   "outputs": [
    {
     "data": {
      "text/html": [
       "<div>\n",
       "<style scoped>\n",
       "    .dataframe tbody tr th:only-of-type {\n",
       "        vertical-align: middle;\n",
       "    }\n",
       "\n",
       "    .dataframe tbody tr th {\n",
       "        vertical-align: top;\n",
       "    }\n",
       "\n",
       "    .dataframe thead th {\n",
       "        text-align: right;\n",
       "    }\n",
       "</style>\n",
       "<table border=\"1\" class=\"dataframe\">\n",
       "  <thead>\n",
       "    <tr style=\"text-align: right;\">\n",
       "      <th></th>\n",
       "      <th>StudyInstanceUID</th>\n",
       "      <th>patient_overall</th>\n",
       "      <th>C1</th>\n",
       "      <th>C2</th>\n",
       "      <th>C3</th>\n",
       "      <th>C4</th>\n",
       "      <th>C5</th>\n",
       "      <th>C6</th>\n",
       "      <th>C7</th>\n",
       "      <th>labels</th>\n",
       "    </tr>\n",
       "  </thead>\n",
       "  <tbody>\n",
       "    <tr>\n",
       "      <th>0</th>\n",
       "      <td>1.2.826.0.1.3680043.6200</td>\n",
       "      <td>1</td>\n",
       "      <td>1</td>\n",
       "      <td>1</td>\n",
       "      <td>0</td>\n",
       "      <td>0</td>\n",
       "      <td>0</td>\n",
       "      <td>0</td>\n",
       "      <td>0</td>\n",
       "      <td>224</td>\n",
       "    </tr>\n",
       "    <tr>\n",
       "      <th>1</th>\n",
       "      <td>1.2.826.0.1.3680043.27262</td>\n",
       "      <td>1</td>\n",
       "      <td>0</td>\n",
       "      <td>1</td>\n",
       "      <td>0</td>\n",
       "      <td>0</td>\n",
       "      <td>0</td>\n",
       "      <td>0</td>\n",
       "      <td>0</td>\n",
       "      <td>160</td>\n",
       "    </tr>\n",
       "    <tr>\n",
       "      <th>2</th>\n",
       "      <td>1.2.826.0.1.3680043.21561</td>\n",
       "      <td>1</td>\n",
       "      <td>0</td>\n",
       "      <td>1</td>\n",
       "      <td>0</td>\n",
       "      <td>0</td>\n",
       "      <td>0</td>\n",
       "      <td>0</td>\n",
       "      <td>0</td>\n",
       "      <td>160</td>\n",
       "    </tr>\n",
       "  </tbody>\n",
       "</table>\n",
       "</div>"
      ],
      "text/plain": [
       "            StudyInstanceUID  patient_overall  C1  C2  C3  C4  C5  C6  C7  \\\n",
       "0   1.2.826.0.1.3680043.6200                1   1   1   0   0   0   0   0   \n",
       "1  1.2.826.0.1.3680043.27262                1   0   1   0   0   0   0   0   \n",
       "2  1.2.826.0.1.3680043.21561                1   0   1   0   0   0   0   0   \n",
       "\n",
       "   labels  \n",
       "0     224  \n",
       "1     160  \n",
       "2     160  "
      ]
     },
     "execution_count": 18,
     "metadata": {},
     "output_type": "execute_result"
    }
   ],
   "source": [
    "train_df.head(3)"
   ]
  },
  {
   "cell_type": "code",
   "execution_count": null,
   "id": "aceecf54",
   "metadata": {
    "papermill": {
     "duration": 0.016372,
     "end_time": "2022-09-13T06:31:04.048904",
     "exception": false,
     "start_time": "2022-09-13T06:31:04.032532",
     "status": "completed"
    },
    "tags": []
   },
   "outputs": [],
   "source": []
  },
  {
   "cell_type": "code",
   "execution_count": 19,
   "id": "e6482b27",
   "metadata": {
    "execution": {
     "iopub.execute_input": "2022-09-13T06:31:04.082524Z",
     "iopub.status.busy": "2022-09-13T06:31:04.081901Z",
     "iopub.status.idle": "2022-09-13T06:31:04.090745Z",
     "shell.execute_reply": "2022-09-13T06:31:04.089650Z"
    },
    "papermill": {
     "duration": 0.028127,
     "end_time": "2022-09-13T06:31:04.092795",
     "exception": false,
     "start_time": "2022-09-13T06:31:04.064668",
     "status": "completed"
    },
    "tags": []
   },
   "outputs": [],
   "source": [
    "class FractureDetectDataset(Dataset):\n",
    "    def __init__(self, df, path, transform=None):\n",
    "        super().__init__()\n",
    "        self.df = df\n",
    "        self.path = path\n",
    "        self.transform = transform\n",
    "    \n",
    "    def __getitem__(self, i):\n",
    "        PATH = os.path.join(self.path, self.df.iloc[i, 0])\n",
    "        try:\n",
    "            img = torch.load(f'{PATH}.pt')\n",
    "            img_tensor = img.permute((2, 0, 1))\n",
    "        except Exception as e:\n",
    "            print(e.message)\n",
    "            pass\n",
    "        #print(temp.shape)\n",
    "        if self.transform is not None:\n",
    "            inputs = self.transform(img_tensor)\n",
    "        else:\n",
    "            inputs = img_tensor\n",
    "        targets = torch.as_tensor(self.df.iloc[i,[1, 2, 3, 4, 5, 6 , 7, 8]].astype('float32').values)\n",
    "        return {\"inputs\": inputs.unsqueeze(0), \"target\": targets}\n",
    "\n",
    "    def __len__(self):\n",
    "        return len(self.df)"
   ]
  },
  {
   "cell_type": "code",
   "execution_count": null,
   "id": "a7147f8b",
   "metadata": {
    "papermill": {
     "duration": 0.015334,
     "end_time": "2022-09-13T06:31:04.124566",
     "exception": false,
     "start_time": "2022-09-13T06:31:04.109232",
     "status": "completed"
    },
    "tags": []
   },
   "outputs": [],
   "source": []
  },
  {
   "cell_type": "code",
   "execution_count": 20,
   "id": "189e2fec",
   "metadata": {
    "execution": {
     "iopub.execute_input": "2022-09-13T06:31:04.158233Z",
     "iopub.status.busy": "2022-09-13T06:31:04.157233Z",
     "iopub.status.idle": "2022-09-13T06:31:04.163722Z",
     "shell.execute_reply": "2022-09-13T06:31:04.162648Z"
    },
    "papermill": {
     "duration": 0.02679,
     "end_time": "2022-09-13T06:31:04.167019",
     "exception": false,
     "start_time": "2022-09-13T06:31:04.140229",
     "status": "completed"
    },
    "tags": []
   },
   "outputs": [
    {
     "data": {
      "text/plain": [
       "'train_transform = transforms.Compose([transforms.Resize((img_size, img_size, stack_size)),\\n                                      transforms.ToTensor()\\n])'"
      ]
     },
     "execution_count": 20,
     "metadata": {},
     "output_type": "execute_result"
    }
   ],
   "source": [
    "\"\"\"train_transform = transforms.Compose([transforms.Resize((img_size, img_size, stack_size)),\n",
    "                                      transforms.ToTensor()\n",
    "])\"\"\""
   ]
  },
  {
   "cell_type": "code",
   "execution_count": 21,
   "id": "dfdce83a",
   "metadata": {
    "execution": {
     "iopub.execute_input": "2022-09-13T06:31:04.201206Z",
     "iopub.status.busy": "2022-09-13T06:31:04.200690Z",
     "iopub.status.idle": "2022-09-13T06:31:04.232515Z",
     "shell.execute_reply": "2022-09-13T06:31:04.231278Z"
    },
    "papermill": {
     "duration": 0.052082,
     "end_time": "2022-09-13T06:31:04.235258",
     "exception": false,
     "start_time": "2022-09-13T06:31:04.183176",
     "status": "completed"
    },
    "tags": []
   },
   "outputs": [
    {
     "name": "stdout",
     "output_type": "stream",
     "text": [
      "tensor([1., 1., 1., 0., 0., 0., 0., 0.]) torch.Size([40, 100, 100])\n"
     ]
    }
   ],
   "source": [
    "PATH = os.path.join(TRAIN_DATA_PATH, train_df.iloc[0, 0])\n",
    "try:\n",
    "    img = torch.load(f'{PATH}.pt')\n",
    "    img_tensor = img.permute((2, 0, 1))\n",
    "except Exception as e:\n",
    "    print(e)\n",
    "    pass\n",
    "targets = torch.as_tensor(train_df.iloc[0,[1, 2, 3, 4, 5, 6 , 7, 8]].astype('float32').values)\n",
    "print(targets, img_tensor.shape)"
   ]
  },
  {
   "cell_type": "code",
   "execution_count": 22,
   "id": "4049718a",
   "metadata": {
    "execution": {
     "iopub.execute_input": "2022-09-13T06:31:04.270016Z",
     "iopub.status.busy": "2022-09-13T06:31:04.269076Z",
     "iopub.status.idle": "2022-09-13T06:31:04.304800Z",
     "shell.execute_reply": "2022-09-13T06:31:04.303378Z"
    },
    "papermill": {
     "duration": 0.05492,
     "end_time": "2022-09-13T06:31:04.307400",
     "exception": false,
     "start_time": "2022-09-13T06:31:04.252480",
     "status": "completed"
    },
    "tags": []
   },
   "outputs": [
    {
     "name": "stdout",
     "output_type": "stream",
     "text": [
      "| ID | GPU | MEM |\n",
      "------------------\n",
      "|  0 |  0% |  0% |\n"
     ]
    }
   ],
   "source": [
    "gpu_usage()"
   ]
  },
  {
   "cell_type": "code",
   "execution_count": 23,
   "id": "36f1d685",
   "metadata": {
    "execution": {
     "iopub.execute_input": "2022-09-13T06:31:04.341375Z",
     "iopub.status.busy": "2022-09-13T06:31:04.340327Z",
     "iopub.status.idle": "2022-09-13T06:31:04.346013Z",
     "shell.execute_reply": "2022-09-13T06:31:04.345000Z"
    },
    "papermill": {
     "duration": 0.024697,
     "end_time": "2022-09-13T06:31:04.348136",
     "exception": false,
     "start_time": "2022-09-13T06:31:04.323439",
     "status": "completed"
    },
    "tags": []
   },
   "outputs": [],
   "source": [
    "from sklearn.model_selection import train_test_split"
   ]
  },
  {
   "cell_type": "code",
   "execution_count": 24,
   "id": "27fa6899",
   "metadata": {
    "execution": {
     "iopub.execute_input": "2022-09-13T06:31:04.382165Z",
     "iopub.status.busy": "2022-09-13T06:31:04.381204Z",
     "iopub.status.idle": "2022-09-13T06:31:04.392983Z",
     "shell.execute_reply": "2022-09-13T06:31:04.391380Z"
    },
    "papermill": {
     "duration": 0.031549,
     "end_time": "2022-09-13T06:31:04.395555",
     "exception": false,
     "start_time": "2022-09-13T06:31:04.364006",
     "status": "completed"
    },
    "tags": []
   },
   "outputs": [
    {
     "name": "stdout",
     "output_type": "stream",
     "text": [
      "30\n"
     ]
    }
   ],
   "source": [
    "list1 = list(train_df['labels'].value_counts())\n",
    "count = 0\n",
    "for val in list1:\n",
    "    if val<2:\n",
    "        count +=1\n",
    "print(count)"
   ]
  },
  {
   "cell_type": "code",
   "execution_count": 25,
   "id": "211bb8a9",
   "metadata": {
    "execution": {
     "iopub.execute_input": "2022-09-13T06:31:04.429428Z",
     "iopub.status.busy": "2022-09-13T06:31:04.429041Z",
     "iopub.status.idle": "2022-09-13T06:31:04.443279Z",
     "shell.execute_reply": "2022-09-13T06:31:04.442386Z"
    },
    "papermill": {
     "duration": 0.033432,
     "end_time": "2022-09-13T06:31:04.445423",
     "exception": false,
     "start_time": "2022-09-13T06:31:04.411991",
     "status": "completed"
    },
    "tags": []
   },
   "outputs": [
    {
     "name": "stdout",
     "output_type": "stream",
     "text": [
      "(1989, 10) (2019, 10)\n"
     ]
    }
   ],
   "source": [
    "counts = train_df['labels'].value_counts()\n",
    "\n",
    "res = train_df[~train_df['labels'].isin(counts[counts < 2].index)]\n",
    "print(res.shape, train_df.shape)"
   ]
  },
  {
   "cell_type": "code",
   "execution_count": 26,
   "id": "889308d2",
   "metadata": {
    "execution": {
     "iopub.execute_input": "2022-09-13T06:31:04.478497Z",
     "iopub.status.busy": "2022-09-13T06:31:04.478145Z",
     "iopub.status.idle": "2022-09-13T06:31:04.482598Z",
     "shell.execute_reply": "2022-09-13T06:31:04.481596Z"
    },
    "papermill": {
     "duration": 0.023727,
     "end_time": "2022-09-13T06:31:04.484887",
     "exception": false,
     "start_time": "2022-09-13T06:31:04.461160",
     "status": "completed"
    },
    "tags": []
   },
   "outputs": [],
   "source": [
    "train_df_edited = res"
   ]
  },
  {
   "cell_type": "code",
   "execution_count": 27,
   "id": "19055563",
   "metadata": {
    "execution": {
     "iopub.execute_input": "2022-09-13T06:31:04.519801Z",
     "iopub.status.busy": "2022-09-13T06:31:04.518758Z",
     "iopub.status.idle": "2022-09-13T06:31:04.533010Z",
     "shell.execute_reply": "2022-09-13T06:31:04.531949Z"
    },
    "papermill": {
     "duration": 0.034,
     "end_time": "2022-09-13T06:31:04.535230",
     "exception": false,
     "start_time": "2022-09-13T06:31:04.501230",
     "status": "completed"
    },
    "tags": []
   },
   "outputs": [
    {
     "data": {
      "text/plain": [
       "((1591, 10), (398, 10))"
      ]
     },
     "execution_count": 27,
     "metadata": {},
     "output_type": "execute_result"
    }
   ],
   "source": [
    "df_train, df_valid = train_test_split(train_df_edited, test_size=0.2, random_state=43, stratify = train_df_edited.labels)\n",
    "df_train.shape, df_valid.shape"
   ]
  },
  {
   "cell_type": "code",
   "execution_count": 28,
   "id": "8503e723",
   "metadata": {
    "execution": {
     "iopub.execute_input": "2022-09-13T06:31:04.569864Z",
     "iopub.status.busy": "2022-09-13T06:31:04.569506Z",
     "iopub.status.idle": "2022-09-13T06:31:04.574810Z",
     "shell.execute_reply": "2022-09-13T06:31:04.573720Z"
    },
    "papermill": {
     "duration": 0.025017,
     "end_time": "2022-09-13T06:31:04.577410",
     "exception": false,
     "start_time": "2022-09-13T06:31:04.552393",
     "status": "completed"
    },
    "tags": []
   },
   "outputs": [],
   "source": [
    "train_dataset = FractureDetectDataset(df = df_train, path = TRAIN_DATA_PATH, transform=None)\n",
    "train_dataloader = DataLoader(train_dataset, batch_size=batch_size, shuffle=True)"
   ]
  },
  {
   "cell_type": "code",
   "execution_count": 29,
   "id": "b02f3f00",
   "metadata": {
    "execution": {
     "iopub.execute_input": "2022-09-13T06:31:04.613509Z",
     "iopub.status.busy": "2022-09-13T06:31:04.612629Z",
     "iopub.status.idle": "2022-09-13T06:31:04.648930Z",
     "shell.execute_reply": "2022-09-13T06:31:04.647759Z"
    },
    "papermill": {
     "duration": 0.05628,
     "end_time": "2022-09-13T06:31:04.651151",
     "exception": false,
     "start_time": "2022-09-13T06:31:04.594871",
     "status": "completed"
    },
    "tags": []
   },
   "outputs": [
    {
     "name": "stdout",
     "output_type": "stream",
     "text": [
      "| ID | GPU | MEM |\n",
      "------------------\n",
      "|  0 |  0% |  0% |\n"
     ]
    }
   ],
   "source": [
    "gpu_usage()"
   ]
  },
  {
   "cell_type": "code",
   "execution_count": 30,
   "id": "d69738b8",
   "metadata": {
    "execution": {
     "iopub.execute_input": "2022-09-13T06:31:04.686602Z",
     "iopub.status.busy": "2022-09-13T06:31:04.685603Z",
     "iopub.status.idle": "2022-09-13T06:31:04.691025Z",
     "shell.execute_reply": "2022-09-13T06:31:04.689854Z"
    },
    "papermill": {
     "duration": 0.025509,
     "end_time": "2022-09-13T06:31:04.693028",
     "exception": false,
     "start_time": "2022-09-13T06:31:04.667519",
     "status": "completed"
    },
    "tags": []
   },
   "outputs": [],
   "source": [
    "import time"
   ]
  },
  {
   "cell_type": "code",
   "execution_count": 31,
   "id": "d05eda34",
   "metadata": {
    "execution": {
     "iopub.execute_input": "2022-09-13T06:31:04.727616Z",
     "iopub.status.busy": "2022-09-13T06:31:04.726740Z",
     "iopub.status.idle": "2022-09-13T06:31:04.855225Z",
     "shell.execute_reply": "2022-09-13T06:31:04.853490Z"
    },
    "papermill": {
     "duration": 0.149614,
     "end_time": "2022-09-13T06:31:04.858529",
     "exception": false,
     "start_time": "2022-09-13T06:31:04.708915",
     "status": "completed"
    },
    "tags": []
   },
   "outputs": [
    {
     "name": "stdout",
     "output_type": "stream",
     "text": [
      "torch.Size([8, 1, 40, 100, 100]) torch.Size([8, 8]) \n",
      " 0.12045884132385254\n"
     ]
    }
   ],
   "source": [
    "start = time.time()\n",
    "data = next(iter(train_dataloader))\n",
    "print(data['inputs'].shape, data['target'].shape, \"\\n\", time.time()-start)"
   ]
  },
  {
   "cell_type": "code",
   "execution_count": 32,
   "id": "096bffba",
   "metadata": {
    "execution": {
     "iopub.execute_input": "2022-09-13T06:31:04.894976Z",
     "iopub.status.busy": "2022-09-13T06:31:04.893838Z",
     "iopub.status.idle": "2022-09-13T06:31:04.902216Z",
     "shell.execute_reply": "2022-09-13T06:31:04.901116Z"
    },
    "papermill": {
     "duration": 0.028531,
     "end_time": "2022-09-13T06:31:04.904470",
     "exception": false,
     "start_time": "2022-09-13T06:31:04.875939",
     "status": "completed"
    },
    "tags": []
   },
   "outputs": [
    {
     "data": {
      "text/plain": [
       "tensor([[0., 0., 0., 0., 0., 0., 0., 0.],\n",
       "        [1., 0., 0., 0., 0., 0., 1., 0.],\n",
       "        [1., 0., 1., 0., 0., 0., 0., 0.],\n",
       "        [0., 0., 0., 0., 0., 0., 0., 0.],\n",
       "        [0., 0., 0., 0., 0., 0., 0., 0.],\n",
       "        [0., 0., 0., 0., 0., 0., 0., 0.],\n",
       "        [1., 1., 0., 0., 0., 0., 0., 0.],\n",
       "        [0., 0., 0., 0., 0., 0., 0., 0.]])"
      ]
     },
     "execution_count": 32,
     "metadata": {},
     "output_type": "execute_result"
    }
   ],
   "source": [
    "data['target']"
   ]
  },
  {
   "cell_type": "code",
   "execution_count": 33,
   "id": "94e2d55f",
   "metadata": {
    "execution": {
     "iopub.execute_input": "2022-09-13T06:31:04.939228Z",
     "iopub.status.busy": "2022-09-13T06:31:04.938670Z",
     "iopub.status.idle": "2022-09-13T06:31:04.943282Z",
     "shell.execute_reply": "2022-09-13T06:31:04.942293Z"
    },
    "papermill": {
     "duration": 0.024044,
     "end_time": "2022-09-13T06:31:04.945211",
     "exception": false,
     "start_time": "2022-09-13T06:31:04.921167",
     "status": "completed"
    },
    "tags": []
   },
   "outputs": [],
   "source": [
    "import torch.nn as nn"
   ]
  },
  {
   "cell_type": "code",
   "execution_count": 34,
   "id": "c1edaade",
   "metadata": {
    "execution": {
     "iopub.execute_input": "2022-09-13T06:31:04.980835Z",
     "iopub.status.busy": "2022-09-13T06:31:04.979856Z",
     "iopub.status.idle": "2022-09-13T06:31:04.991932Z",
     "shell.execute_reply": "2022-09-13T06:31:04.991023Z"
    },
    "papermill": {
     "duration": 0.031922,
     "end_time": "2022-09-13T06:31:04.993894",
     "exception": false,
     "start_time": "2022-09-13T06:31:04.961972",
     "status": "completed"
    },
    "tags": []
   },
   "outputs": [],
   "source": [
    "class Detector(nn.Module):\n",
    "    def __init__(self):\n",
    "        super().__init__()\n",
    "        self.conv1 = nn.Conv3d(in_channels=1, out_channels=16, kernel_size=3, stride=1, padding=0) #(-1, 1, 40, 100, 100) -> #(-1, 16, 38, 98, 98)\n",
    "        self.pooling1 = nn.MaxPool3d(kernel_size=2, stride=2, padding=0) #(8, 16, 38, 98,98) -> (8, 16, 19, 49, 49)\n",
    "        self.norm1 = nn.BatchNorm3d(num_features=16) #(8, 16, 19, 49, 49)\n",
    "        self.layer1 = nn.Sequential(self.conv1, self.pooling1, self.norm1) #(8, 3, 40, 100, 100) -> (8, 16, 19, 49, 49)\n",
    "        \n",
    "        self.conv2 = nn.Conv3d(in_channels=16, out_channels=32, kernel_size=3, stride=(1, 2, 2), padding=0) #(8, 16, 19, 49, 49) -> (8, 32, 17, 24, 24)\n",
    "        #self.norm2 = nn.BatchNorm3d(num_features = 64)\n",
    "    \n",
    "        self.layer2 = nn.Sequential(self.conv2)\n",
    "        \n",
    "        #self.conv4 = nn.Conv3d(in_channels=64, out_channels=256, kernel_size=3, stride=1, padding=0) #(8, 32, 17, 47, 47) -> (8, 256, 15, 45, 45)\n",
    "        self.final_pool = nn.AvgPool3d((7, 5, 5), stride = (2, 3, 3)) #(8, 32, 17, 24, 24) -> (8, 32, 6, 7, 7)\n",
    "        #self.norm4 = nn.BatchNorm3d(num_features = 256)\n",
    "        self.layer3 = nn.Sequential( self.final_pool)\n",
    "        \n",
    "        self.flat = nn.Flatten()\n",
    "        \n",
    "        self.relu = nn.ReLU()\n",
    "        self.layer4 = nn.Sequential(nn.Linear(in_features=32*6*7*7, out_features=256), self.relu,\n",
    "                                    nn.Linear(in_features=256, out_features=32), self.relu,\n",
    "                                    nn.Linear(in_features=32, out_features = 8)\n",
    "                                    )\n",
    "        \n",
    "        self.sigmoid = nn.Sigmoid()\n",
    "\n",
    "    def forward(self, x):\n",
    "        #print(x.shape)\n",
    "        out = self.layer1(x)\n",
    "        #print(out.shape)\n",
    "        out = self.layer2(out)\n",
    "        #print(out.shape)\n",
    "        out = self.layer3(out)\n",
    "        #print(out.shape)\n",
    "        \n",
    "        output = self.flat(out)\n",
    "        output = self.layer4(output)\n",
    "        #print(output.shape)\n",
    "        return output\n",
    "    \n",
    "    def predict(self, x):\n",
    "        preds = self.forward(x)\n",
    "        preds = self.sigmoid(preds)\n",
    "        return preds"
   ]
  },
  {
   "cell_type": "code",
   "execution_count": 35,
   "id": "5fb6a2c8",
   "metadata": {
    "execution": {
     "iopub.execute_input": "2022-09-13T06:31:05.028552Z",
     "iopub.status.busy": "2022-09-13T06:31:05.027578Z",
     "iopub.status.idle": "2022-09-13T06:31:05.034390Z",
     "shell.execute_reply": "2022-09-13T06:31:05.033290Z"
    },
    "papermill": {
     "duration": 0.026154,
     "end_time": "2022-09-13T06:31:05.036424",
     "exception": false,
     "start_time": "2022-09-13T06:31:05.010270",
     "status": "completed"
    },
    "tags": []
   },
   "outputs": [
    {
     "data": {
      "text/plain": [
       "'cuda'"
      ]
     },
     "execution_count": 35,
     "metadata": {},
     "output_type": "execute_result"
    }
   ],
   "source": [
    "device"
   ]
  },
  {
   "cell_type": "code",
   "execution_count": 36,
   "id": "31d770d7",
   "metadata": {
    "execution": {
     "iopub.execute_input": "2022-09-13T06:31:05.071584Z",
     "iopub.status.busy": "2022-09-13T06:31:05.070498Z",
     "iopub.status.idle": "2022-09-13T06:31:08.338767Z",
     "shell.execute_reply": "2022-09-13T06:31:08.337714Z"
    },
    "papermill": {
     "duration": 3.288078,
     "end_time": "2022-09-13T06:31:08.340931",
     "exception": false,
     "start_time": "2022-09-13T06:31:05.052853",
     "status": "completed"
    },
    "tags": []
   },
   "outputs": [
    {
     "data": {
      "text/plain": [
       "Detector(\n",
       "  (conv1): Conv3d(1, 16, kernel_size=(3, 3, 3), stride=(1, 1, 1))\n",
       "  (pooling1): MaxPool3d(kernel_size=2, stride=2, padding=0, dilation=1, ceil_mode=False)\n",
       "  (norm1): BatchNorm3d(16, eps=1e-05, momentum=0.1, affine=True, track_running_stats=True)\n",
       "  (layer1): Sequential(\n",
       "    (0): Conv3d(1, 16, kernel_size=(3, 3, 3), stride=(1, 1, 1))\n",
       "    (1): MaxPool3d(kernel_size=2, stride=2, padding=0, dilation=1, ceil_mode=False)\n",
       "    (2): BatchNorm3d(16, eps=1e-05, momentum=0.1, affine=True, track_running_stats=True)\n",
       "  )\n",
       "  (conv2): Conv3d(16, 32, kernel_size=(3, 3, 3), stride=(1, 2, 2))\n",
       "  (layer2): Sequential(\n",
       "    (0): Conv3d(16, 32, kernel_size=(3, 3, 3), stride=(1, 2, 2))\n",
       "  )\n",
       "  (final_pool): AvgPool3d(kernel_size=(7, 5, 5), stride=(2, 3, 3), padding=0)\n",
       "  (layer3): Sequential(\n",
       "    (0): AvgPool3d(kernel_size=(7, 5, 5), stride=(2, 3, 3), padding=0)\n",
       "  )\n",
       "  (flat): Flatten(start_dim=1, end_dim=-1)\n",
       "  (relu): ReLU()\n",
       "  (layer4): Sequential(\n",
       "    (0): Linear(in_features=9408, out_features=256, bias=True)\n",
       "    (1): ReLU()\n",
       "    (2): Linear(in_features=256, out_features=32, bias=True)\n",
       "    (3): ReLU()\n",
       "    (4): Linear(in_features=32, out_features=8, bias=True)\n",
       "  )\n",
       "  (sigmoid): Sigmoid()\n",
       ")"
      ]
     },
     "execution_count": 36,
     "metadata": {},
     "output_type": "execute_result"
    }
   ],
   "source": [
    "model = Detector()\n",
    "model.to(device)"
   ]
  },
  {
   "cell_type": "code",
   "execution_count": 37,
   "id": "3895ebd6",
   "metadata": {
    "execution": {
     "iopub.execute_input": "2022-09-13T06:31:08.376828Z",
     "iopub.status.busy": "2022-09-13T06:31:08.375905Z",
     "iopub.status.idle": "2022-09-13T06:31:08.433725Z",
     "shell.execute_reply": "2022-09-13T06:31:08.432106Z"
    },
    "papermill": {
     "duration": 0.078992,
     "end_time": "2022-09-13T06:31:08.436654",
     "exception": false,
     "start_time": "2022-09-13T06:31:08.357662",
     "status": "completed"
    },
    "tags": []
   },
   "outputs": [
    {
     "name": "stdout",
     "output_type": "stream",
     "text": [
      "| ID | GPU | MEM |\n",
      "------------------\n",
      "|  0 |  2% |  4% |\n"
     ]
    }
   ],
   "source": [
    "gpu_usage()"
   ]
  },
  {
   "cell_type": "code",
   "execution_count": 38,
   "id": "c5d336f0",
   "metadata": {
    "execution": {
     "iopub.execute_input": "2022-09-13T06:31:08.472533Z",
     "iopub.status.busy": "2022-09-13T06:31:08.471926Z",
     "iopub.status.idle": "2022-09-13T06:31:14.721215Z",
     "shell.execute_reply": "2022-09-13T06:31:14.718998Z"
    },
    "papermill": {
     "duration": 6.269928,
     "end_time": "2022-09-13T06:31:14.723608",
     "exception": false,
     "start_time": "2022-09-13T06:31:08.453680",
     "status": "completed"
    },
    "tags": []
   },
   "outputs": [
    {
     "name": "stdout",
     "output_type": "stream",
     "text": [
      "0 \n",
      " tensor([[0.5108, 0.4658, 0.5227, 0.4628, 0.4758, 0.4756, 0.4886, 0.5363],\n",
      "        [0.5113, 0.4668, 0.5218, 0.4620, 0.4753, 0.4749, 0.4874, 0.5354],\n",
      "        [0.5102, 0.4649, 0.5222, 0.4618, 0.4735, 0.4761, 0.4878, 0.5378],\n",
      "        [0.5105, 0.4643, 0.5218, 0.4623, 0.4741, 0.4762, 0.4891, 0.5379],\n",
      "        [0.5108, 0.4667, 0.5232, 0.4628, 0.4751, 0.4752, 0.4883, 0.5366],\n",
      "        [0.5101, 0.4659, 0.5210, 0.4623, 0.4745, 0.4752, 0.4885, 0.5385],\n",
      "        [0.5111, 0.4641, 0.5229, 0.4619, 0.4742, 0.4758, 0.4880, 0.5375],\n",
      "        [0.5109, 0.4655, 0.5237, 0.4621, 0.4748, 0.4762, 0.4887, 0.5373]],\n",
      "       device='cuda:0', grad_fn=<SigmoidBackward0>) 6.214350700378418\n"
     ]
    }
   ],
   "source": [
    "start = time.time()\n",
    "trial_tensor = torch.rand(8, 1, 40, 100, 100).to(device)\n",
    "print(trial_tensor.get_device(), \"\\n\", model.predict(trial_tensor), time.time()-start)"
   ]
  },
  {
   "cell_type": "code",
   "execution_count": 39,
   "id": "5c88fa02",
   "metadata": {
    "execution": {
     "iopub.execute_input": "2022-09-13T06:31:14.758735Z",
     "iopub.status.busy": "2022-09-13T06:31:14.758095Z",
     "iopub.status.idle": "2022-09-13T06:31:14.994900Z",
     "shell.execute_reply": "2022-09-13T06:31:14.993847Z"
    },
    "papermill": {
     "duration": 0.25668,
     "end_time": "2022-09-13T06:31:14.997018",
     "exception": false,
     "start_time": "2022-09-13T06:31:14.740338",
     "status": "completed"
    },
    "tags": []
   },
   "outputs": [
    {
     "data": {
      "text/plain": [
       "103"
      ]
     },
     "execution_count": 39,
     "metadata": {},
     "output_type": "execute_result"
    }
   ],
   "source": [
    "torch.cuda.empty_cache()\n",
    "gc.collect()"
   ]
  },
  {
   "cell_type": "code",
   "execution_count": 40,
   "id": "96e66221",
   "metadata": {
    "execution": {
     "iopub.execute_input": "2022-09-13T06:31:15.032136Z",
     "iopub.status.busy": "2022-09-13T06:31:15.031830Z",
     "iopub.status.idle": "2022-09-13T06:31:15.038231Z",
     "shell.execute_reply": "2022-09-13T06:31:15.036633Z"
    },
    "papermill": {
     "duration": 0.025995,
     "end_time": "2022-09-13T06:31:15.040348",
     "exception": false,
     "start_time": "2022-09-13T06:31:15.014353",
     "status": "completed"
    },
    "tags": []
   },
   "outputs": [
    {
     "name": "stdout",
     "output_type": "stream",
     "text": [
      "199\n"
     ]
    }
   ],
   "source": [
    "print(len(train_dataloader))"
   ]
  },
  {
   "cell_type": "code",
   "execution_count": 41,
   "id": "6fa362ce",
   "metadata": {
    "execution": {
     "iopub.execute_input": "2022-09-13T06:31:15.075744Z",
     "iopub.status.busy": "2022-09-13T06:31:15.075408Z",
     "iopub.status.idle": "2022-09-13T06:31:15.080081Z",
     "shell.execute_reply": "2022-09-13T06:31:15.078936Z"
    },
    "papermill": {
     "duration": 0.025055,
     "end_time": "2022-09-13T06:31:15.082386",
     "exception": false,
     "start_time": "2022-09-13T06:31:15.057331",
     "status": "completed"
    },
    "tags": []
   },
   "outputs": [],
   "source": [
    "import copy"
   ]
  },
  {
   "cell_type": "code",
   "execution_count": 42,
   "id": "bcefa731",
   "metadata": {
    "execution": {
     "iopub.execute_input": "2022-09-13T06:31:15.118518Z",
     "iopub.status.busy": "2022-09-13T06:31:15.118172Z",
     "iopub.status.idle": "2022-09-13T06:31:15.136545Z",
     "shell.execute_reply": "2022-09-13T06:31:15.135421Z"
    },
    "papermill": {
     "duration": 0.039709,
     "end_time": "2022-09-13T06:31:15.139662",
     "exception": false,
     "start_time": "2022-09-13T06:31:15.099953",
     "status": "completed"
    },
    "tags": []
   },
   "outputs": [],
   "source": [
    "def train(epoch, model, opt, lr_scheduler, criterion, dataloader, device):\n",
    "    print(f\"Epoch: {epoch}\")\n",
    "    model.train()\n",
    "    \n",
    "    running_loss = 0\n",
    "    total_loss = []\n",
    "    lrs = []\n",
    "    total_size = 0\n",
    "    correct = 0\n",
    "    \n",
    "    start = time.time()\n",
    "    for i, data in enumerate(dataloader):\n",
    "        #gpu_usage()\n",
    "        gc.collect()\n",
    "        inputs = data[\"inputs\"].to(device)\n",
    "        targets = data[\"target\"].to(device)\n",
    "        #print(i)\n",
    "        inputs = inputs.type(torch.cuda.FloatTensor)\n",
    "        targets = targets.type(torch.cuda.FloatTensor)\n",
    "        #print(ids.shape, \"ids\")\n",
    "        batch_size = inputs.size(0)\n",
    "        #gpu_usage()\n",
    "        output = model.forward(inputs)\n",
    "        gc.collect()\n",
    "        del inputs\n",
    "        loss = criterion(output, targets)\n",
    "        #print(output.shape, targets.shape, loss.shape)\n",
    "        loss.mean().backward()\n",
    "        opt.step()\n",
    "        opt.zero_grad()\n",
    "        if i%4 == 0 or i+1==len(dataloader):\n",
    "            lr_scheduler.step()\n",
    "        total_loss.append(torch.sum(loss))\n",
    "        gc.collect()\n",
    "        del loss\n",
    "        #gpu_usage()\n",
    "        torch.cuda.empty_cache()\n",
    "        output = torch.sigmoid(output)\n",
    "        predictions = torch.as_tensor((output - 0.6) > 0, dtype=torch.int32)\n",
    "        correct += (predictions == targets).float().sum().item()\n",
    "        gc.collect()\n",
    "        #gpu_usage()\n",
    "        del predictions\n",
    "        del targets\n",
    "        del output\n",
    "        #gpu_usage()\n",
    "        torch.cuda.empty_cache()\n",
    "        #print(predictions, \"\\n\", targets, \"\\n\", correct)\n",
    "        total_size += batch_size\n",
    "        accuracy = correct/(total_size*8)\n",
    "        #print(correct, total_size)\n",
    "        lrs.append(opt.param_groups[0]['lr'])\n",
    "        if i%40==0:\n",
    "            print(time.time()-start, \":time\")\n",
    "            print(\"Training Loss over a batch: {:.4f}; Training Loss over a single value: {:.4f} Accuracy: {:.2f}%\".format(torch.mean(torch.stack(total_loss)), (torch.mean(torch.stack(total_loss)))/(batch_size*8), accuracy*100))\n",
    "            start = time.time()\n",
    "        break\n",
    "    return torch.mean(torch.stack(total_loss)), accuracy, lrs\n",
    "\n",
    "def valid_eval(model, dataloader, device):\n",
    "    model.eval()\n",
    "    \n",
    "    total_size = 0\n",
    "    total_loss = []\n",
    "    correct = 0\n",
    "    with torch.no_grad():\n",
    "        for data in dataloader:\n",
    "            gc.collect()\n",
    "            torch.cuda.empty_cache()\n",
    "            inputs = data[\"inputs\"].to(device)\n",
    "            targets = data[\"target\"].to(device)\n",
    "\n",
    "            inputs = inputs.type(torch.cuda.FloatTensor)\n",
    "            targets = targets.type(torch.cuda.FloatTensor)\n",
    "            #print(ids.shape, \"ids\")\n",
    "            batch_size = inputs.size(0)\n",
    "\n",
    "            output = model.forward(inputs)\n",
    "            gc.collect()\n",
    "            del inputs\n",
    "            loss = criterion(output, targets)\n",
    "            total_loss.append(torch.sum(loss))\n",
    "            gc.collect()\n",
    "            del loss\n",
    "            torch.cuda.empty_cache()\n",
    "            output = torch.sigmoid(output)\n",
    "\n",
    "            predictions = torch.as_tensor((output - 0.6) > 0, dtype=torch.int32)\n",
    "            correct += (predictions == targets).float().sum().item()\n",
    "            gc.collect()\n",
    "            del predictions\n",
    "            del targets\n",
    "            del output\n",
    "            torch.cuda.empty_cache()\n",
    "            total_size += batch_size\n",
    "            #gpu_usage()\n",
    "        accuracy = correct/(total_size*8)\n",
    "    \n",
    "    print(\"Validation Loss over a batch: {:.4f}; Training Loss over a single value: {:.4f} Accuracy: {:.2f}%\".format(torch.mean(torch.stack(total_loss)),(torch.mean(torch.stack(total_loss)))/(batch_size*8), accuracy*100))\n",
    "    model.train()\n",
    "    return torch.mean(torch.stack(total_loss)), accuracy"
   ]
  },
  {
   "cell_type": "code",
   "execution_count": 43,
   "id": "a560c493",
   "metadata": {
    "execution": {
     "iopub.execute_input": "2022-09-13T06:31:15.174657Z",
     "iopub.status.busy": "2022-09-13T06:31:15.174358Z",
     "iopub.status.idle": "2022-09-13T06:31:15.184020Z",
     "shell.execute_reply": "2022-09-13T06:31:15.182844Z"
    },
    "papermill": {
     "duration": 0.029459,
     "end_time": "2022-09-13T06:31:15.186035",
     "exception": false,
     "start_time": "2022-09-13T06:31:15.156576",
     "status": "completed"
    },
    "tags": []
   },
   "outputs": [],
   "source": [
    "def train_epochs(model, opt, lr_scheduler, criterion, device, epochs=25, mode='trial'):\n",
    "    min_avg_loss = 1e9\n",
    "    max_accuracy = 0\n",
    "    history = {\"Train Loss\": [], \"Valid Loss\": [], \"Train Acc\": [], \"Valid Acc\": [], \"LRs\": []}\n",
    "    \n",
    "    for epoch in range(epochs):\n",
    "        train_loss, train_accuracy, lrs = train(epoch, model, opt, lr_scheduler, criterion, dataloader = train_dataloader, device=device)\n",
    "        \n",
    "        valid_loss, valid_accuracy = valid_eval(model, dataloader=valid_dataloader, device=device)\n",
    "        \n",
    "        history[\"Train Loss\"].append(train_loss)\n",
    "        history[\"Valid Loss\"].append(valid_loss)\n",
    "        history[\"Train Acc\"].append(train_accuracy)\n",
    "        history[\"Valid Acc\"].append(valid_accuracy)\n",
    "        history[\"LRs\"].extend(lrs)\n",
    "        \n",
    "        if valid_loss < min_avg_loss:\n",
    "            print(f\"Validation Loss Improved ({min_avg_loss} ---> {valid_loss})\")\n",
    "            min_avg_loss = valid_loss\n",
    "            max_accuracy = valid_accuracy\n",
    "            best_model_weights = copy.deepcopy(model.state_dict())\n",
    "            path = f\"best_model.bin\"\n",
    "            torch.save(model.state_dict(), path)\n",
    "            print(f\"Model Saved\")\n",
    "        \n",
    "        print('-'*89)\n",
    "        \n",
    "    \n",
    "    print(\"Minimum Loss: {:.4f} Best Accuracy: {:.2f}\".format(min_avg_loss, max_accuracy))\n",
    "    \n",
    "    model.load_state_dict(best_model_weights)\n",
    "    return model, history"
   ]
  },
  {
   "cell_type": "code",
   "execution_count": 44,
   "id": "19df2f49",
   "metadata": {
    "execution": {
     "iopub.execute_input": "2022-09-13T06:31:15.220448Z",
     "iopub.status.busy": "2022-09-13T06:31:15.220165Z",
     "iopub.status.idle": "2022-09-13T06:31:15.227730Z",
     "shell.execute_reply": "2022-09-13T06:31:15.226663Z"
    },
    "papermill": {
     "duration": 0.027926,
     "end_time": "2022-09-13T06:31:15.230735",
     "exception": false,
     "start_time": "2022-09-13T06:31:15.202809",
     "status": "completed"
    },
    "tags": []
   },
   "outputs": [
    {
     "data": {
      "text/plain": [
       "2431528"
      ]
     },
     "execution_count": 44,
     "metadata": {},
     "output_type": "execute_result"
    }
   ],
   "source": [
    "model_parameters = filter(lambda p: p.requires_grad, model.parameters())\n",
    "params = sum([np.prod(p.size()) for p in model_parameters])\n",
    "params"
   ]
  },
  {
   "cell_type": "code",
   "execution_count": 45,
   "id": "98beffac",
   "metadata": {
    "execution": {
     "iopub.execute_input": "2022-09-13T06:31:15.266399Z",
     "iopub.status.busy": "2022-09-13T06:31:15.265647Z",
     "iopub.status.idle": "2022-09-13T06:31:15.272943Z",
     "shell.execute_reply": "2022-09-13T06:31:15.271941Z"
    },
    "papermill": {
     "duration": 0.027439,
     "end_time": "2022-09-13T06:31:15.275100",
     "exception": false,
     "start_time": "2022-09-13T06:31:15.247661",
     "status": "completed"
    },
    "tags": []
   },
   "outputs": [
    {
     "name": "stdout",
     "output_type": "stream",
     "text": [
      "torch.Size([16, 1, 3, 3, 3])\n",
      "torch.Size([16])\n",
      "torch.Size([16])\n",
      "torch.Size([16])\n",
      "torch.Size([32, 16, 3, 3, 3])\n",
      "torch.Size([32])\n",
      "torch.Size([256, 9408])\n",
      "torch.Size([256])\n",
      "torch.Size([32, 256])\n",
      "torch.Size([32])\n",
      "torch.Size([8, 32])\n",
      "torch.Size([8])\n"
     ]
    }
   ],
   "source": [
    "for p in model.parameters():\n",
    "    print(p.shape)"
   ]
  },
  {
   "cell_type": "code",
   "execution_count": 46,
   "id": "c5dcae80",
   "metadata": {
    "execution": {
     "iopub.execute_input": "2022-09-13T06:31:15.311460Z",
     "iopub.status.busy": "2022-09-13T06:31:15.310877Z",
     "iopub.status.idle": "2022-09-13T06:31:15.315594Z",
     "shell.execute_reply": "2022-09-13T06:31:15.314545Z"
    },
    "papermill": {
     "duration": 0.025206,
     "end_time": "2022-09-13T06:31:15.317693",
     "exception": false,
     "start_time": "2022-09-13T06:31:15.292487",
     "status": "completed"
    },
    "tags": []
   },
   "outputs": [],
   "source": [
    "from torch.optim import lr_scheduler"
   ]
  },
  {
   "cell_type": "code",
   "execution_count": 47,
   "id": "5218dffb",
   "metadata": {
    "execution": {
     "iopub.execute_input": "2022-09-13T06:31:15.353252Z",
     "iopub.status.busy": "2022-09-13T06:31:15.352941Z",
     "iopub.status.idle": "2022-09-13T06:31:15.357408Z",
     "shell.execute_reply": "2022-09-13T06:31:15.356369Z"
    },
    "papermill": {
     "duration": 0.024294,
     "end_time": "2022-09-13T06:31:15.359540",
     "exception": false,
     "start_time": "2022-09-13T06:31:15.335246",
     "status": "completed"
    },
    "tags": []
   },
   "outputs": [],
   "source": [
    "lr = 0.01\n",
    "epochs = 10"
   ]
  },
  {
   "cell_type": "code",
   "execution_count": 48,
   "id": "8d30b119",
   "metadata": {
    "execution": {
     "iopub.execute_input": "2022-09-13T06:31:15.394420Z",
     "iopub.status.busy": "2022-09-13T06:31:15.394104Z",
     "iopub.status.idle": "2022-09-13T06:31:15.399177Z",
     "shell.execute_reply": "2022-09-13T06:31:15.398040Z"
    },
    "papermill": {
     "duration": 0.025308,
     "end_time": "2022-09-13T06:31:15.401570",
     "exception": false,
     "start_time": "2022-09-13T06:31:15.376262",
     "status": "completed"
    },
    "tags": []
   },
   "outputs": [],
   "source": [
    "valid_dataset = FractureDetectDataset(df = df_valid, path = TRAIN_DATA_PATH, transform=None)\n",
    "valid_dataloader = DataLoader(valid_dataset, batch_size=batch_size, shuffle=True)"
   ]
  },
  {
   "cell_type": "code",
   "execution_count": null,
   "id": "18a11a78",
   "metadata": {
    "papermill": {
     "duration": 0.043284,
     "end_time": "2022-09-13T06:31:15.464731",
     "exception": false,
     "start_time": "2022-09-13T06:31:15.421447",
     "status": "completed"
    },
    "tags": []
   },
   "outputs": [],
   "source": []
  },
  {
   "cell_type": "code",
   "execution_count": 49,
   "id": "6aaad9da",
   "metadata": {
    "execution": {
     "iopub.execute_input": "2022-09-13T06:31:15.553517Z",
     "iopub.status.busy": "2022-09-13T06:31:15.553019Z",
     "iopub.status.idle": "2022-09-13T06:31:15.564332Z",
     "shell.execute_reply": "2022-09-13T06:31:15.563092Z"
    },
    "papermill": {
     "duration": 0.061395,
     "end_time": "2022-09-13T06:31:15.569599",
     "exception": false,
     "start_time": "2022-09-13T06:31:15.508204",
     "status": "completed"
    },
    "tags": []
   },
   "outputs": [
    {
     "data": {
      "text/plain": [
       "'max_split_size_mb:3000'"
      ]
     },
     "execution_count": 49,
     "metadata": {},
     "output_type": "execute_result"
    }
   ],
   "source": [
    "os.environ.get('PYTORCH_CUDA_ALLOC_CONF')"
   ]
  },
  {
   "cell_type": "code",
   "execution_count": 50,
   "id": "01b3758e",
   "metadata": {
    "execution": {
     "iopub.execute_input": "2022-09-13T06:31:15.654649Z",
     "iopub.status.busy": "2022-09-13T06:31:15.654295Z",
     "iopub.status.idle": "2022-09-13T06:31:15.659081Z",
     "shell.execute_reply": "2022-09-13T06:31:15.658111Z"
    },
    "papermill": {
     "duration": 0.045197,
     "end_time": "2022-09-13T06:31:15.661319",
     "exception": false,
     "start_time": "2022-09-13T06:31:15.616122",
     "status": "completed"
    },
    "tags": []
   },
   "outputs": [],
   "source": [
    "torch.cuda.empty_cache()"
   ]
  },
  {
   "cell_type": "code",
   "execution_count": 51,
   "id": "82c23ff1",
   "metadata": {
    "execution": {
     "iopub.execute_input": "2022-09-13T06:31:15.697814Z",
     "iopub.status.busy": "2022-09-13T06:31:15.697435Z",
     "iopub.status.idle": "2022-09-13T06:37:45.311508Z",
     "shell.execute_reply": "2022-09-13T06:37:45.310472Z"
    },
    "papermill": {
     "duration": 389.653878,
     "end_time": "2022-09-13T06:37:45.332226",
     "exception": false,
     "start_time": "2022-09-13T06:31:15.678348",
     "status": "completed"
    },
    "tags": []
   },
   "outputs": [
    {
     "name": "stdout",
     "output_type": "stream",
     "text": [
      "Epoch: 0\n",
      "1.1702892780303955 :time\n",
      "Training Loss over a batch: 43.0704; Training Loss over a single value: 0.6730 Accuracy: 93.75%\n",
      "Validation Loss over a batch: 6626.7544; Training Loss over a single value: 138.0574 Accuracy: 78.20%\n",
      "Validation Loss Improved (1000000000.0 ---> 6626.75439453125)\n",
      "Model Saved\n",
      "-----------------------------------------------------------------------------------------\n",
      "Epoch: 1\n",
      "0.8580894470214844 :time\n",
      "Training Loss over a batch: 715.3229; Training Loss over a single value: 11.1769 Accuracy: 70.31%\n",
      "Validation Loss over a batch: 1554.6804; Training Loss over a single value: 32.3892 Accuracy: 78.05%\n",
      "Validation Loss Improved (6626.75439453125 ---> 1554.680419921875)\n",
      "Model Saved\n",
      "-----------------------------------------------------------------------------------------\n",
      "Epoch: 2\n",
      "0.8980307579040527 :time\n",
      "Training Loss over a batch: 304.8258; Training Loss over a single value: 4.7629 Accuracy: 71.88%\n",
      "Validation Loss over a batch: 238.6096; Training Loss over a single value: 4.9710 Accuracy: 77.92%\n",
      "Validation Loss Improved (1554.680419921875 ---> 238.609619140625)\n",
      "Model Saved\n",
      "-----------------------------------------------------------------------------------------\n",
      "Epoch: 3\n",
      "0.865530252456665 :time\n",
      "Training Loss over a batch: 53.7021; Training Loss over a single value: 0.8391 Accuracy: 67.19%\n",
      "Validation Loss over a batch: 4054.2231; Training Loss over a single value: 84.4630 Accuracy: 74.12%\n",
      "-----------------------------------------------------------------------------------------\n",
      "Epoch: 4\n",
      "0.8437850475311279 :time\n",
      "Training Loss over a batch: 433.9081; Training Loss over a single value: 6.7798 Accuracy: 76.56%\n",
      "Validation Loss over a batch: 640.2829; Training Loss over a single value: 13.3392 Accuracy: 85.93%\n",
      "-----------------------------------------------------------------------------------------\n",
      "Epoch: 5\n",
      "0.8237056732177734 :time\n",
      "Training Loss over a batch: 124.6868; Training Loss over a single value: 1.9482 Accuracy: 84.38%\n",
      "Validation Loss over a batch: 245.7291; Training Loss over a single value: 5.1194 Accuracy: 77.42%\n",
      "-----------------------------------------------------------------------------------------\n",
      "Epoch: 6\n",
      "1.0228190422058105 :time\n",
      "Training Loss over a batch: 56.5880; Training Loss over a single value: 0.8842 Accuracy: 79.69%\n",
      "Validation Loss over a batch: 82.7182; Training Loss over a single value: 1.7233 Accuracy: 79.46%\n",
      "Validation Loss Improved (238.609619140625 ---> 82.7181625366211)\n",
      "Model Saved\n",
      "-----------------------------------------------------------------------------------------\n",
      "Epoch: 7\n",
      "0.857607364654541 :time\n",
      "Training Loss over a batch: 75.7979; Training Loss over a single value: 1.1843 Accuracy: 67.19%\n",
      "Validation Loss over a batch: 348.2913; Training Loss over a single value: 7.2561 Accuracy: 77.39%\n",
      "-----------------------------------------------------------------------------------------\n",
      "Epoch: 8\n",
      "0.860785722732544 :time\n",
      "Training Loss over a batch: 45.7781; Training Loss over a single value: 0.7153 Accuracy: 78.12%\n",
      "Validation Loss over a batch: 225.6255; Training Loss over a single value: 4.7005 Accuracy: 77.39%\n",
      "-----------------------------------------------------------------------------------------\n",
      "Epoch: 9\n",
      "0.8383445739746094 :time\n",
      "Training Loss over a batch: 35.4454; Training Loss over a single value: 0.5538 Accuracy: 92.19%\n",
      "Validation Loss over a batch: 49.5977; Training Loss over a single value: 1.0333 Accuracy: 84.42%\n",
      "Validation Loss Improved (82.7181625366211 ---> 49.59774398803711)\n",
      "Model Saved\n",
      "-----------------------------------------------------------------------------------------\n",
      "Minimum Loss: 49.5977 Best Accuracy: 0.84\n"
     ]
    }
   ],
   "source": [
    "model_parameters = filter(lambda parameter: parameter.requires_grad, model.parameters())\n",
    "optimizer = torch.optim.AdamW(model_parameters, lr=lr, weight_decay = 0.1)\n",
    "scheduler = lr_scheduler.CosineAnnealingLR(optimizer, T_max=500, eta_min=0.001)\n",
    "criterion = nn.BCEWithLogitsLoss(reduction = 'none')\n",
    "\n",
    "#test 1 epoch\n",
    "model, history = train_epochs(model, optimizer, scheduler,criterion, device=device, epochs=epochs)"
   ]
  },
  {
   "cell_type": "code",
   "execution_count": null,
   "id": "c45a06dc",
   "metadata": {
    "execution": {
     "iopub.execute_input": "2022-09-13T06:17:06.133150Z",
     "iopub.status.busy": "2022-09-13T06:17:06.132434Z",
     "iopub.status.idle": "2022-09-13T06:17:06.141259Z",
     "shell.execute_reply": "2022-09-13T06:17:06.140042Z",
     "shell.execute_reply.started": "2022-09-13T06:17:06.133102Z"
    },
    "papermill": {
     "duration": 0.018227,
     "end_time": "2022-09-13T06:37:45.368768",
     "exception": false,
     "start_time": "2022-09-13T06:37:45.350541",
     "status": "completed"
    },
    "tags": []
   },
   "outputs": [],
   "source": []
  },
  {
   "cell_type": "code",
   "execution_count": null,
   "id": "4fabcef3",
   "metadata": {
    "execution": {
     "iopub.execute_input": "2022-09-13T06:17:06.143865Z",
     "iopub.status.busy": "2022-09-13T06:17:06.142803Z",
     "iopub.status.idle": "2022-09-13T06:17:06.153433Z",
     "shell.execute_reply": "2022-09-13T06:17:06.152505Z",
     "shell.execute_reply.started": "2022-09-13T06:17:06.143827Z"
    },
    "papermill": {
     "duration": 0.017751,
     "end_time": "2022-09-13T06:37:45.404970",
     "exception": false,
     "start_time": "2022-09-13T06:37:45.387219",
     "status": "completed"
    },
    "tags": []
   },
   "outputs": [],
   "source": []
  },
  {
   "cell_type": "code",
   "execution_count": null,
   "id": "4cb70bfc",
   "metadata": {
    "execution": {
     "iopub.execute_input": "2022-09-13T06:17:06.156639Z",
     "iopub.status.busy": "2022-09-13T06:17:06.155469Z",
     "iopub.status.idle": "2022-09-13T06:17:06.165994Z",
     "shell.execute_reply": "2022-09-13T06:17:06.165030Z",
     "shell.execute_reply.started": "2022-09-13T06:17:06.156575Z"
    },
    "papermill": {
     "duration": 0.018526,
     "end_time": "2022-09-13T06:37:45.441817",
     "exception": false,
     "start_time": "2022-09-13T06:37:45.423291",
     "status": "completed"
    },
    "tags": []
   },
   "outputs": [],
   "source": []
  },
  {
   "cell_type": "code",
   "execution_count": null,
   "id": "1dec188e",
   "metadata": {
    "papermill": {
     "duration": 0.01783,
     "end_time": "2022-09-13T06:37:45.478460",
     "exception": false,
     "start_time": "2022-09-13T06:37:45.460630",
     "status": "completed"
    },
    "tags": []
   },
   "outputs": [],
   "source": []
  },
  {
   "cell_type": "code",
   "execution_count": null,
   "id": "f8e6ebf5",
   "metadata": {
    "execution": {
     "iopub.execute_input": "2022-09-13T06:17:06.170145Z",
     "iopub.status.busy": "2022-09-13T06:17:06.169478Z",
     "iopub.status.idle": "2022-09-13T06:17:06.181837Z",
     "shell.execute_reply": "2022-09-13T06:17:06.180873Z",
     "shell.execute_reply.started": "2022-09-13T06:17:06.170101Z"
    },
    "papermill": {
     "duration": 0.017687,
     "end_time": "2022-09-13T06:37:45.514264",
     "exception": false,
     "start_time": "2022-09-13T06:37:45.496577",
     "status": "completed"
    },
    "tags": []
   },
   "outputs": [],
   "source": []
  },
  {
   "cell_type": "code",
   "execution_count": null,
   "id": "3d36495b",
   "metadata": {
    "papermill": {
     "duration": 0.017733,
     "end_time": "2022-09-13T06:37:45.550634",
     "exception": false,
     "start_time": "2022-09-13T06:37:45.532901",
     "status": "completed"
    },
    "tags": []
   },
   "outputs": [],
   "source": []
  },
  {
   "cell_type": "code",
   "execution_count": 52,
   "id": "411b420e",
   "metadata": {
    "execution": {
     "iopub.execute_input": "2022-09-13T06:37:45.589375Z",
     "iopub.status.busy": "2022-09-13T06:37:45.588673Z",
     "iopub.status.idle": "2022-09-13T06:37:45.595224Z",
     "shell.execute_reply": "2022-09-13T06:37:45.594178Z"
    },
    "papermill": {
     "duration": 0.029119,
     "end_time": "2022-09-13T06:37:45.598574",
     "exception": false,
     "start_time": "2022-09-13T06:37:45.569455",
     "status": "completed"
    },
    "tags": []
   },
   "outputs": [
    {
     "data": {
      "text/plain": [
       "'import torch\\nfrom GPUtil import showUtilization as gpu_usage\\nfrom numba import cuda\\n\\ndef free_gpu_cache():\\n    print(\"Initial GPU Usage\")\\n    gpu_usage()                             \\n\\n    torch.cuda.empty_cache()\\n\\n    cuda.select_device(0)\\n    cuda.close()\\n    cuda.select_device(0)\\n\\n    print(\"GPU Usage after emptying the cache\")\\n    gpu_usage()\\n\\nfree_gpu_cache()'"
      ]
     },
     "execution_count": 52,
     "metadata": {},
     "output_type": "execute_result"
    }
   ],
   "source": [
    "\"\"\"import torch\n",
    "from GPUtil import showUtilization as gpu_usage\n",
    "from numba import cuda\n",
    "\n",
    "def free_gpu_cache():\n",
    "    print(\"Initial GPU Usage\")\n",
    "    gpu_usage()                             \n",
    "\n",
    "    torch.cuda.empty_cache()\n",
    "\n",
    "    cuda.select_device(0)\n",
    "    cuda.close()\n",
    "    cuda.select_device(0)\n",
    "\n",
    "    print(\"GPU Usage after emptying the cache\")\n",
    "    gpu_usage()\n",
    "\n",
    "free_gpu_cache()\"\"\"\n"
   ]
  },
  {
   "cell_type": "code",
   "execution_count": 53,
   "id": "ac77bf55",
   "metadata": {
    "execution": {
     "iopub.execute_input": "2022-09-13T06:37:45.637813Z",
     "iopub.status.busy": "2022-09-13T06:37:45.637442Z",
     "iopub.status.idle": "2022-09-13T06:37:45.709995Z",
     "shell.execute_reply": "2022-09-13T06:37:45.708570Z"
    },
    "papermill": {
     "duration": 0.09459,
     "end_time": "2022-09-13T06:37:45.712448",
     "exception": false,
     "start_time": "2022-09-13T06:37:45.617858",
     "status": "completed"
    },
    "tags": []
   },
   "outputs": [
    {
     "name": "stdout",
     "output_type": "stream",
     "text": [
      "| ID | GPU | MEM |\n",
      "------------------\n",
      "|  0 |  0% |  6% |\n"
     ]
    }
   ],
   "source": [
    "gpu_usage()"
   ]
  },
  {
   "cell_type": "code",
   "execution_count": 54,
   "id": "7ab9090b",
   "metadata": {
    "execution": {
     "iopub.execute_input": "2022-09-13T06:37:45.752883Z",
     "iopub.status.busy": "2022-09-13T06:37:45.751879Z",
     "iopub.status.idle": "2022-09-13T06:37:46.053226Z",
     "shell.execute_reply": "2022-09-13T06:37:46.051503Z"
    },
    "papermill": {
     "duration": 0.323956,
     "end_time": "2022-09-13T06:37:46.055435",
     "exception": false,
     "start_time": "2022-09-13T06:37:45.731479",
     "status": "completed"
    },
    "tags": []
   },
   "outputs": [
    {
     "name": "stdout",
     "output_type": "stream",
     "text": [
      "| ID | GPU | MEM |\n",
      "------------------\n",
      "|  0 |  0% |  6% |\n"
     ]
    }
   ],
   "source": [
    "gc.collect()\n",
    "torch.cuda.empty_cache()\n",
    "del model\n",
    "gpu_usage()"
   ]
  },
  {
   "cell_type": "code",
   "execution_count": null,
   "id": "38ce3e22",
   "metadata": {
    "papermill": {
     "duration": 0.018986,
     "end_time": "2022-09-13T06:37:46.092912",
     "exception": false,
     "start_time": "2022-09-13T06:37:46.073926",
     "status": "completed"
    },
    "tags": []
   },
   "outputs": [],
   "source": []
  },
  {
   "cell_type": "code",
   "execution_count": null,
   "id": "96feb85a",
   "metadata": {
    "papermill": {
     "duration": 0.0181,
     "end_time": "2022-09-13T06:37:46.129620",
     "exception": false,
     "start_time": "2022-09-13T06:37:46.111520",
     "status": "completed"
    },
    "tags": []
   },
   "outputs": [],
   "source": []
  }
 ],
 "metadata": {
  "kernelspec": {
   "display_name": "Python 3",
   "language": "python",
   "name": "python3"
  },
  "language_info": {
   "codemirror_mode": {
    "name": "ipython",
    "version": 3
   },
   "file_extension": ".py",
   "mimetype": "text/x-python",
   "name": "python",
   "nbconvert_exporter": "python",
   "pygments_lexer": "ipython3",
   "version": "3.7.12"
  },
  "papermill": {
   "default_parameters": {},
   "duration": 467.55744,
   "end_time": "2022-09-13T06:37:49.092531",
   "environment_variables": {},
   "exception": null,
   "input_path": "__notebook__.ipynb",
   "output_path": "__notebook__.ipynb",
   "parameters": {},
   "start_time": "2022-09-13T06:30:01.535091",
   "version": "2.3.4"
  }
 },
 "nbformat": 4,
 "nbformat_minor": 5
}
